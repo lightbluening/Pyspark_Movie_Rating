{
  "nbformat": 4,
  "nbformat_minor": 0,
  "metadata": {
    "colab": {
      "provenance": []
    },
    "kernelspec": {
      "name": "python3",
      "display_name": "Python 3"
    },
    "language_info": {
      "name": "python"
    }
  },
  "cells": [
    {
      "cell_type": "code",
      "source": [
        "!pip install -q pyspark"
      ],
      "metadata": {
        "colab": {
          "base_uri": "https://localhost:8080/"
        },
        "id": "piihj4O8jBjU",
        "outputId": "0dc64845-673d-4091-d768-8bdb09cec2bd"
      },
      "execution_count": 3,
      "outputs": [
        {
          "output_type": "stream",
          "name": "stdout",
          "text": [
            "\u001b[2K     \u001b[90m━━━━━━━━━━━━━━━━━━━━━━━━━━━━━━━━━━━━━━━\u001b[0m \u001b[32m316.9/316.9 MB\u001b[0m \u001b[31m3.9 MB/s\u001b[0m eta \u001b[36m0:00:00\u001b[0m\n",
            "\u001b[?25h  Preparing metadata (setup.py) ... \u001b[?25l\u001b[?25hdone\n",
            "  Building wheel for pyspark (setup.py) ... \u001b[?25l\u001b[?25hdone\n"
          ]
        }
      ]
    },
    {
      "cell_type": "code",
      "source": [
        "# download ml-100k.csv\n",
        "!wget -q http://media.sundog-soft.com/es/ml-100k.zip\n",
        "#wget: wget is a command-line utility for downloading files from the internet. It's commonly used in Unix-like operating systems (e.g., Linux) to fetch files from web servers."
      ],
      "metadata": {
        "id": "spGCwIQLi1dA"
      },
      "execution_count": 2,
      "outputs": []
    },
    {
      "cell_type": "code",
      "source": [
        "# save the csv file in the working directory\n",
        "import os\n",
        "import requests\n",
        "import zipfile\n",
        "import io\n",
        "\n",
        "# URL of the ZIP file to download\n",
        "zip_url = \"http://media.sundog-soft.com/es/ml-100k.zip\"\n",
        "\n",
        "# Send an HTTP GET request to download the ZIP file\n",
        "response = requests.get(zip_url)\n",
        "\n",
        "# Check if the request was successful\n",
        "if response.status_code == 200:\n",
        "    # Get the file name from the URL\n",
        "    file_name = os.path.basename(zip_url)\n",
        "\n",
        "    # Determine the current working directory\n",
        "    current_directory = os.getcwd()\n",
        "\n",
        "    # Specify the path to save the ZIP file in the current directory\n",
        "    zip_save_path = os.path.join(current_directory, file_name)\n",
        "\n",
        "    # Save the downloaded ZIP file to the specified path\n",
        "    with open(zip_save_path, \"wb\") as file:# wb means write binary\n",
        "        file.write(response.content)\n",
        "\n",
        "    print(f\"ZIP file saved to: {zip_save_path}\")\n",
        "\n",
        "    # Extract the contents of the ZIP file\n",
        "    with zipfile.ZipFile(zip_save_path, 'r') as zip_ref:\n",
        "        zip_ref.extractall(current_directory)\n",
        "\n",
        "    print(f\"ZIP file extracted to: {current_directory}\")\n",
        "\n",
        "    # Now you can process the extracted CSV file (assuming it's named \"data.csv\")\n",
        "    extracted_csv_file = os.path.join(current_directory, \"ml-100k/u.data\")\n",
        "\n",
        "    if os.path.isfile(extracted_csv_file):\n",
        "        # You can work with the extracted CSV file here\n",
        "        print(f\"Extracted CSV file found at: {extracted_csv_file}\")\n",
        "    else:\n",
        "        print(\" file not found in the extracted contents.\")\n",
        "else:\n",
        "    print(\"Failed to download the ZIP file.\")"
      ],
      "metadata": {
        "colab": {
          "base_uri": "https://localhost:8080/"
        },
        "id": "p9yhOwoyjewT",
        "outputId": "996e6bde-8ff0-441a-8f53-231ff89a9b3c"
      },
      "execution_count": 7,
      "outputs": [
        {
          "output_type": "stream",
          "name": "stdout",
          "text": [
            "ZIP file saved to: /content/ml-100k.zip\n",
            "ZIP file extracted to: /content\n",
            "Extracted CSV file found at: /content/ml-100k/u.data\n"
          ]
        }
      ]
    },
    {
      "cell_type": "code",
      "execution_count": 8,
      "metadata": {
        "colab": {
          "base_uri": "https://localhost:8080/"
        },
        "id": "bdNYadcdip5F",
        "outputId": "7e46dcac-b705-4fb3-b326-e08a20a260b5"
      },
      "outputs": [
        {
          "output_type": "stream",
          "name": "stdout",
          "text": [
            "1 6110\n",
            "2 11370\n",
            "3 27145\n",
            "4 34174\n",
            "5 21201\n"
          ]
        }
      ],
      "source": [
        "from pyspark import SparkConf, SparkContext\n",
        "import collections\n",
        "\n",
        "conf = SparkConf().setMaster(\"local\").setAppName(\"RatingsHistogram\")\n",
        "sc = SparkContext(conf = conf)\n",
        "\n",
        "lines = sc.textFile(\"/content/ml-100k/u.data\")\n",
        "ratings = lines.map(lambda x: x.split()[2])\n",
        "result = ratings.countByValue()\n",
        "\n",
        "sortedResults = collections.OrderedDict(sorted(result.items()))\n",
        "for key, value in sortedResults.items():\n",
        "    print(\"%s %i\" % (key, value))\n"
      ]
    }
  ]
}